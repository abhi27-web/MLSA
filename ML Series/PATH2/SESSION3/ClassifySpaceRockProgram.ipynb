{
 "cells": [
  {
   "cell_type": "markdown",
   "source": [
    "# Add import statements for the libraries"
   ],
   "metadata": {}
  },
  {
   "cell_type": "code",
   "execution_count": 1,
   "source": [
    "import matplotlib.pyplot as plt"
   ],
   "outputs": [],
   "metadata": {}
  },
  {
   "cell_type": "code",
   "execution_count": null,
   "source": [
    "import numpy as np"
   ],
   "outputs": [],
   "metadata": {}
  },
  {
   "cell_type": "code",
   "execution_count": null,
   "source": [
    "import torch\r\n",
    "from torch import nn, optim\r\n",
    "from torch.autograd import Variable\r\n",
    "import torch.nn.functional as F"
   ],
   "outputs": [],
   "metadata": {}
  },
  {
   "cell_type": "code",
   "execution_count": null,
   "source": [
    "import torchvision\r\n",
    "from torchvision import datasets, transforms, models"
   ],
   "outputs": [],
   "metadata": {}
  },
  {
   "cell_type": "code",
   "execution_count": null,
   "source": [
    "from PIL import Image"
   ],
   "outputs": [],
   "metadata": {}
  },
  {
   "cell_type": "code",
   "execution_count": null,
   "source": [
    "%matplotlib inline\r\n",
    "%config InlineBackend.figure_format = 'retina'"
   ],
   "outputs": [],
   "metadata": {}
  },
  {
   "cell_type": "markdown",
   "source": [
    "# Add code to clean and separate the data"
   ],
   "metadata": {}
  },
  {
   "cell_type": "code",
   "execution_count": null,
   "source": [
    "# Tell the machine what folder contains the image data\r\n",
    "data_dir = './Data'\r\n",
    "\r\n",
    "# Read the data, crop and resize the images, split data into two groups: test and train\r\n",
    "def load_split_train_test(data_dir, valid_size = .2):\r\n",
    "\r\n",
    "    # Transform the images to train the model\r\n",
    "    train_transforms = transforms.Compose([\r\n",
    "                                       transforms.RandomResizedCrop(224),\r\n",
    "                                       transforms.Resize(224),\r\n",
    "                                       transforms.ToTensor(),\r\n",
    "                                       ])\r\n",
    "\r\n",
    "    # Transform the images to test the model\r\n",
    "    test_transforms = transforms.Compose([transforms.RandomResizedCrop(224),\r\n",
    "                                          transforms.Resize(224),\r\n",
    "                                          transforms.ToTensor(),\r\n",
    "                                      ])\r\n",
    "\r\n",
    "    # Create two variables for the folders with the training and testing images\r\n",
    "    train_data = datasets.ImageFolder(data_dir, transform=train_transforms)\r\n",
    "    test_data = datasets.ImageFolder(data_dir, transform=test_transforms)\r\n",
    "\r\n",
    "    # Get the number of images in the training folder\r\n",
    "    num_train = len(train_data)\r\n",
    "\r\n",
    "    # Create a list of numbers from 0 to the number of training images - 1\r\n",
    "    # Example: For 10 images, the variable is the list [0,1,2,3,4,5,6,7,8,9]\r\n",
    "    indices = list(range(num_train))\r\n",
    "\r\n",
    "    # If valid_size is .2, find the index of the image that represents 20% of the data\r\n",
    "    # If there are 10 images, a split would result in 2\r\n",
    "    # split = int(np.floor(.2 * 10)) -> int(np.floor(2)) -> int(2) -> 2\r\n",
    "    split = int(np.floor(valid_size * num_train))\r\n",
    "\r\n",
    "    # Randomly shuffle the indices\r\n",
    "    # For 10 images, an example would be that indices is now the list [2,5,4,6,7,1,3,0,9,8]\r\n",
    "    np.random.shuffle(indices)\r\n",
    "\r\n",
    "    from torch.utils.data.sampler import SubsetRandomSampler\r\n",
    "\r\n",
    "    # With the indices randomly shuffled, \r\n",
    "    # grab the first 20% of the shuffled indices, and store them in the training index list\r\n",
    "    # grab the remainder of the shuffled indices, and store them in the testing index list\r\n",
    "    # Given our example so far, this would result is:\r\n",
    "    # train_idx is the list [1,5] \r\n",
    "    # test_idx is the list [4,6,7,1,3,0,9,8]\r\n",
    "    train_idx, test_idx = indices[split:], indices[:split]\r\n",
    "\r\n",
    "    # Create samplers to randomly grab items from the training and testing indices lists\r\n",
    "    train_sampler = SubsetRandomSampler(train_idx)\r\n",
    "    test_sampler = SubsetRandomSampler(test_idx)\r\n",
    "\r\n",
    "    # Create loaders to load 16 images from the train and test data folders\r\n",
    "    # Images are chosen based on the shuffled index lists and by using the samplers\r\n",
    "    trainloader = torch.utils.data.DataLoader(train_data, sampler=train_sampler, batch_size=16)\r\n",
    "    testloader = torch.utils.data.DataLoader(test_data, sampler=test_sampler, batch_size=16)\r\n",
    "\r\n",
    "    # Return the loaders so you can grab images randomly from the training and testing data folders\r\n",
    "    return trainloader, testloader\r\n",
    "\r\n",
    "# Using the function that shuffles images,\r\n",
    "# create a trainloader to load 20% of the images\r\n",
    "# create a testloader to load 80% of the images\r\n",
    "trainloader, testloader = load_split_train_test(data_dir, .2)\r\n",
    "\r\n",
    "# Print the type of rocks that are included in the trainloader\r\n",
    "print(trainloader.dataset.classes)"
   ],
   "outputs": [],
   "metadata": {}
  },
  {
   "cell_type": "markdown",
   "source": [
    "# Add code to transform and select random images"
   ],
   "metadata": {}
  },
  {
   "cell_type": "markdown",
   "source": [
    "# Transform an image into pixels and resize it\r\n",
    "test_transforms = transforms.Compose([transforms.RandomResizedCrop(224),\r\n",
    "                                   transforms.Resize(224),\r\n",
    "                                   transforms.ToTensor(),\r\n",
    "                                 ])\r\n",
    "\r\n",
    "# Randomly select a set of images by using a similar approach as the load_split_train_test function\r\n",
    "def get_random_images(num):\r\n",
    "    data = datasets.ImageFolder(data_dir, transform=test_transforms)\r\n",
    "    classes = data.classes\r\n",
    "    indices = list(range(len(data)))\r\n",
    "    np.random.shuffle(indices)\r\n",
    "    idx = indices[:num]\r\n",
    "    from torch.utils.data.sampler import SubsetRandomSampler\r\n",
    "    sampler = SubsetRandomSampler(idx)\r\n",
    "    loader = torch.utils.data.DataLoader(data, sampler=sampler, batch_size=num)\r\n",
    "\r\n",
    "    # Create an iterator to iterate over the shuffled images in the test image dataset\r\n",
    "    dataiter = iter(loader)\r\n",
    "\r\n",
    "    # Get and return the images and labels from the iterator\r\n",
    "    images, labels = dataiter.next()\r\n",
    "    return images, labels"
   ],
   "metadata": {}
  },
  {
   "cell_type": "markdown",
   "source": [
    "# Add code to show randomly selected images"
   ],
   "metadata": {}
  },
  {
   "cell_type": "markdown",
   "source": [
    "# Show five images - you can change this number\r\n",
    "images, labels = get_random_images(5)\r\n",
    "\r\n",
    "# Convert the array of pixels to an image\r\n",
    "to_pil = transforms.ToPILImage()\r\n",
    "fig=plt.figure(figsize=(20,20))\r\n",
    "\r\n",
    "# Get a list of all classes in the training data\r\n",
    "classes=trainloader.dataset.classes\r\n",
    "\r\n",
    "# Draw the images in a plot to display in the notebook\r\n",
    "for ii in range(len(images)):\r\n",
    "    image = to_pil(images[ii])\r\n",
    "    sub = fig.add_subplot(1, len(images), ii+1)\r\n",
    "    plt.axis('off')\r\n",
    "    plt.imshow(image)\r\n",
    "\r\n",
    "# Display all of the images \r\n",
    "plt.show()"
   ],
   "metadata": {}
  }
 ],
 "metadata": {
  "interpreter": {
   "hash": "df2b3761f3ed061e0ace8822984067d1e9c8ecf3f71f496cf19c2f043f79c2c6"
  },
  "kernelspec": {
   "name": "python3",
   "display_name": "Python 3.7.11 64-bit ('myenv': conda)"
  },
  "language_info": {
   "name": "python",
   "version": "3.7.11",
   "mimetype": "text/x-python",
   "codemirror_mode": {
    "name": "ipython",
    "version": 3
   },
   "pygments_lexer": "ipython3",
   "nbconvert_exporter": "python",
   "file_extension": ".py"
  },
  "orig_nbformat": 4
 },
 "nbformat": 4,
 "nbformat_minor": 2
}