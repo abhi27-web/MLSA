{
 "metadata": {
  "language_info": {
   "codemirror_mode": {
    "name": "ipython",
    "version": 3
   },
   "file_extension": ".py",
   "mimetype": "text/x-python",
   "name": "python",
   "nbconvert_exporter": "python",
   "pygments_lexer": "ipython3",
   "version": "3.8.5"
  },
  "orig_nbformat": 2,
  "kernelspec": {
   "name": "python385jvsc74a57bd0e404b59586357c814bc0d3940e75d6763c00a48753b225b81f7716971b8e1741",
   "display_name": "Python 3.8.5 64-bit"
  },
  "metadata": {
   "interpreter": {
    "hash": "e404b59586357c814bc0d3940e75d6763c00a48753b225b81f7716971b8e1741"
   }
  }
 },
 "nbformat": 4,
 "nbformat_minor": 2,
 "cells": [
  {
   "source": [
    "# Create a Jupyter Notebook to explore data about Moon rocks\n"
   ],
   "cell_type": "markdown",
   "metadata": {}
  },
  {
   "cell_type": "code",
   "execution_count": 1,
   "metadata": {},
   "outputs": [
    {
     "output_type": "stream",
     "name": "stdout",
     "text": [
      "Artemis Rover Rock Scanner Starting\n"
     ]
    }
   ],
   "source": [
    "print(\"Artemis Rover Rock Scanner Starting\")"
   ]
  },
  {
   "cell_type": "code",
   "execution_count": 2,
   "metadata": {},
   "outputs": [],
   "source": [
    "basalt = 0\n",
    "breccia = 0\n",
    "highland = 0\n",
    "regolith = 0\n",
    "rockList = []"
   ]
  },
  {
   "source": [
    "# Read in Moon rock data from a text file for exploration"
   ],
   "cell_type": "markdown",
   "metadata": {}
  },
  {
   "cell_type": "code",
   "execution_count": 3,
   "metadata": {},
   "outputs": [
    {
     "output_type": "stream",
     "name": "stdout",
     "text": [
      "Artemis Rover Rock Scanner Starting\n"
     ]
    }
   ],
   "source": [
    "print(\"Artemis Rover Rock Scanner Starting\")\n",
    "\n",
    "basalt = 0\n",
    "breccia = 0\n",
    "highland = 0\n",
    "regolith = 0\n",
    "rockList = []"
   ]
  },
  {
   "cell_type": "code",
   "execution_count": 4,
   "metadata": {},
   "outputs": [],
   "source": [
    "strPath = \"rocks.txt\"\n",
    "fileObject = open(strPath, \"w\")\n",
    "fileObject.writelines([\"Reading Rocks\\n\",\"basalt\\n\",\"breccia\\n\",\"highland\\n\",\"regolith\\n\",\"highland\\n\",\"breccia\\n\",\"highland\\n\",\"regolith\\n\",\"regolith\\n\",\"basalt\\n\",\"highland\\n\",\"basalt\\n\",\"breccia\\n\",\"breccia\\n\",\"regolith\\n\",\"breccia\\n\",\"highland\\n\",\"highland\\n\",\"breccia\\n\",\"basalt\\n\"])\n",
    "fileObject.close()"
   ]
  },
  {
   "cell_type": "code",
   "execution_count": 5,
   "metadata": {},
   "outputs": [
    {
     "output_type": "stream",
     "name": "stdout",
     "text": [
      "Reading Rocks\n\n"
     ]
    }
   ],
   "source": [
    "strPath = \"rocks.txt\"\n",
    "fileObject = open(strPath)\n",
    "line = fileObject.readline()\n",
    "print(line)"
   ]
  },
  {
   "cell_type": "code",
   "execution_count": 6,
   "metadata": {},
   "outputs": [
    {
     "output_type": "stream",
     "name": "stdout",
     "text": [
      "basalt\n\nbreccia\n\nhighland\n\nregolith\n\nhighland\n\nbreccia\n\nhighland\n\nregolith\n\nregolith\n\nbasalt\n\nhighland\n\nbasalt\n\nbreccia\n\nbreccia\n\nregolith\n\nbreccia\n\nhighland\n\nhighland\n\nbreccia\n\nbasalt\n\n"
     ]
    }
   ],
   "source": [
    "rockList = fileObject.readlines()\n",
    "\n",
    "for rock in rockList:\n",
    "    print(rock)\n",
    "\n",
    "fileObject.close()"
   ]
  },
  {
   "source": [
    "# Create a function to count types of Moon rocks found"
   ],
   "cell_type": "markdown",
   "metadata": {}
  },
  {
   "cell_type": "code",
   "execution_count": 7,
   "metadata": {},
   "outputs": [
    {
     "output_type": "stream",
     "name": "stdout",
     "text": [
      "Artemis Rover Rock Scanner Starting\nReading Rocks\n\nbasalt\n\nbreccia\n\nhighland\n\nregolith\n\nhighland\n\nbreccia\n\nhighland\n\nregolith\n\nregolith\n\nbasalt\n\nhighland\n\nbasalt\n\nbreccia\n\nbreccia\n\nregolith\n\nbreccia\n\nhighland\n\nhighland\n\nbreccia\n\nbasalt\n\n"
     ]
    }
   ],
   "source": [
    "print(\"Artemis Rover Rock Scanner Starting\")\n",
    "\n",
    "basalt = 0\n",
    "breccia = 0\n",
    "highland = 0\n",
    "regolith = 0\n",
    "rockList = []\n",
    "\n",
    "strPath = \"rocks.txt\"\n",
    "fileObject = open(strPath)\n",
    "line = fileObject.readline()\n",
    "print(line)\n",
    "\n",
    "rockList = fileObject.readlines()\n",
    "\n",
    "for rock in rockList:\n",
    "    print(rock)\n",
    "\n",
    "fileObject.close()"
   ]
  },
  {
   "cell_type": "code",
   "execution_count": 8,
   "metadata": {},
   "outputs": [],
   "source": [
    "def countMoonRocks(rockToID):\n",
    "    global basalt\n",
    "    global breccia\n",
    "    global highland\n",
    "    global regolith\n",
    "\n",
    "    rockToID = rockToID.lower()\n",
    "\n",
    "    if(\"basalt\" in rockToID):\n",
    "        print(\"Found a basalt\\n\")\n",
    "        basalt += 1\n",
    "\n",
    "    #TODO Add else if statements for breccia, highland and regolith\n",
    "\n",
    "    return"
   ]
  },
  {
   "cell_type": "code",
   "execution_count": 9,
   "metadata": {},
   "outputs": [],
   "source": [
    "def countMoonRocks(rockToID):\n",
    "    global basalt\n",
    "    global breccia\n",
    "    global highland\n",
    "    global regolith\n",
    "\n",
    "    rockToID = rockToID.lower()\n",
    "\n",
    "    if(\"basalt\" in rockToID):\n",
    "        print(\"Found a basalt\\n\")\n",
    "        basalt += 1\n",
    "    elif(\"breccia\" in rockToID):\n",
    "        print(\"Found a breccia\\n\")\n",
    "        breccia += 1\n",
    "    elif(\"highland\" in rockToID):\n",
    "        print(\"Found a highland\\n\")\n",
    "        highland += 1\n",
    "    elif(\"regolith\" in rockToID):\n",
    "        print(\"Found a regolith\\n\")\n",
    "        regolith += 1\n",
    "\n",
    "    return"
   ]
  },
  {
   "source": [
    "# Count the number of Moon rocks by calling a Python function"
   ],
   "cell_type": "markdown",
   "metadata": {}
  },
  {
   "cell_type": "code",
   "execution_count": 10,
   "metadata": {},
   "outputs": [
    {
     "output_type": "stream",
     "name": "stdout",
     "text": [
      "Artemis Rover Rock Scanner Starting\nReading Rocks\n\nbasalt\n\nbreccia\n\nhighland\n\nregolith\n\nhighland\n\nbreccia\n\nhighland\n\nregolith\n\nregolith\n\nbasalt\n\nhighland\n\nbasalt\n\nbreccia\n\nbreccia\n\nregolith\n\nbreccia\n\nhighland\n\nhighland\n\nbreccia\n\nbasalt\n\n"
     ]
    }
   ],
   "source": [
    "print(\"Artemis Rover Rock Scanner Starting\")\n",
    "\n",
    "basalt = 0\n",
    "breccia = 0\n",
    "highland = 0\n",
    "regolith = 0\n",
    "rockList = []\n",
    "\n",
    "strPath = \"rocks.txt\"\n",
    "fileObject = open(strPath)\n",
    "line = fileObject.readline()\n",
    "print(line)\n",
    "\n",
    "rockList = fileObject.readlines()\n",
    "\n",
    "for rock in rockList:\n",
    "    print(rock)\n",
    "\n",
    "fileObject.close()\n",
    "\n",
    "def countMoonRocks(rockToID):\n",
    "    global basalt\n",
    "    global breccia\n",
    "    global highland\n",
    "    global regolith\n",
    "\n",
    "    rockToID = rockToID.lower()\n",
    "\n",
    "    if(\"basalt\" in rockToID):\n",
    "        print(\"Found a basalt\\n\")\n",
    "        basalt += 1\n",
    "    elif(\"breccia\" in rockToID):\n",
    "        print(\"Found a breccia\\n\")\n",
    "        breccia += 1\n",
    "    elif(\"highland\" in rockToID):\n",
    "        print(\"Found a highland\\n\")\n",
    "        highland += 1\n",
    "    elif(\"regolith\" in rockToID):\n",
    "        print(\"Found a regolith\\n\")\n",
    "        regolith += 1\n",
    "\n",
    "    return"
   ]
  },
  {
   "cell_type": "code",
   "execution_count": 11,
   "metadata": {},
   "outputs": [
    {
     "output_type": "stream",
     "name": "stdout",
     "text": [
      "Found a basalt\n\nFound a breccia\n\nFound a highland\n\nFound a regolith\n\nFound a highland\n\nFound a breccia\n\nFound a highland\n\nFound a regolith\n\nFound a regolith\n\nFound a basalt\n\nFound a highland\n\nFound a basalt\n\nFound a breccia\n\nFound a breccia\n\nFound a regolith\n\nFound a breccia\n\nFound a highland\n\nFound a highland\n\nFound a breccia\n\nFound a basalt\n\n"
     ]
    }
   ],
   "source": [
    "for rock in rockList:\n",
    "    countMoonRocks(rock)"
   ]
  },
  {
   "cell_type": "code",
   "execution_count": 13,
   "metadata": {},
   "outputs": [
    {
     "output_type": "stream",
     "name": "stdout",
     "text": [
      "6\n"
     ]
    }
   ],
   "source": [
    "print(highland)"
   ]
  },
  {
   "source": [
    "# Analyze and summarize data in Python"
   ],
   "cell_type": "markdown",
   "metadata": {}
  },
  {
   "cell_type": "code",
   "execution_count": 14,
   "metadata": {},
   "outputs": [
    {
     "output_type": "stream",
     "name": "stdout",
     "text": [
      "Artemis Rover Rock Scanner Starting\nReading Rocks\n\nbasalt\n\nbreccia\n\nhighland\n\nregolith\n\nhighland\n\nbreccia\n\nhighland\n\nregolith\n\nregolith\n\nbasalt\n\nhighland\n\nbasalt\n\nbreccia\n\nbreccia\n\nregolith\n\nbreccia\n\nhighland\n\nhighland\n\nbreccia\n\nbasalt\n\nFound a basalt\n\nFound a breccia\n\nFound a highland\n\nFound a regolith\n\nFound a highland\n\nFound a breccia\n\nFound a highland\n\nFound a regolith\n\nFound a regolith\n\nFound a basalt\n\nFound a highland\n\nFound a basalt\n\nFound a breccia\n\nFound a breccia\n\nFound a regolith\n\nFound a breccia\n\nFound a highland\n\nFound a highland\n\nFound a breccia\n\nFound a basalt\n\n"
     ]
    }
   ],
   "source": [
    "print(\"Artemis Rover Rock Scanner Starting\")\n",
    "\n",
    "basalt = 0\n",
    "breccia = 0\n",
    "highland = 0\n",
    "regolith = 0\n",
    "rockList = []\n",
    "\n",
    "strPath = \"rocks.txt\"\n",
    "fileObject = open(strPath)\n",
    "line = fileObject.readline()\n",
    "print(line)\n",
    "\n",
    "rockList = fileObject.readlines()\n",
    "\n",
    "for rock in rockList:\n",
    "    print(rock)\n",
    "\n",
    "fileObject.close()\n",
    "\n",
    "def countMoonRocks(rockToID):\n",
    "    global basalt\n",
    "    global breccia\n",
    "    global highland\n",
    "    global regolith\n",
    "\n",
    "    rockToID = rockToID.lower()\n",
    "\n",
    "    if(\"basalt\" in rockToID):\n",
    "        print(\"Found a basalt\\n\")\n",
    "        basalt += 1\n",
    "    elif(\"breccia\" in rockToID):\n",
    "        print(\"Found a breccia\\n\")\n",
    "        breccia += 1\n",
    "    elif(\"highland\" in rockToID):\n",
    "        print(\"Found a highland\\n\")\n",
    "        highland += 1\n",
    "    elif(\"regolith\" in rockToID):\n",
    "        print(\"Found a regolith\\n\")\n",
    "        regolith += 1\n",
    "\n",
    "    return\n",
    "\n",
    "for rock in rockList:\n",
    "    countMoonRocks(rock)"
   ]
  },
  {
   "cell_type": "code",
   "execution_count": 15,
   "metadata": {},
   "outputs": [
    {
     "output_type": "stream",
     "name": "stdout",
     "text": [
      "Number of Basalt:  4\n"
     ]
    }
   ],
   "source": [
    "# TODO Add a print statement for the other types of rocks: breccia, highland and regolith\n",
    "print(\"Number of Basalt: \", basalt)"
   ]
  },
  {
   "cell_type": "code",
   "execution_count": 17,
   "metadata": {},
   "outputs": [
    {
     "output_type": "stream",
     "name": "stdout",
     "text": [
      "The max number of one type of rock found was: 6\nThe minimum number of one type of rock found was: 4\n"
     ]
    }
   ],
   "source": [
    "# TODO Add other rock types to the \"max\" and \"min\" function calls\n",
    "print(\"The max number of one type of rock found was:\", max(basalt, max(breccia,max(highland,regolith\n",
    "))))\n",
    "print(\"The minimum number of one type of rock found was:\", min(basalt, min(breccia,min(highland,regolith\n",
    "))))"
   ]
  },
  {
   "source": [
    "### Solution Code:"
   ],
   "cell_type": "markdown",
   "metadata": {}
  },
  {
   "cell_type": "code",
   "execution_count": null,
   "metadata": {},
   "outputs": [],
   "source": [
    "print(\"Number of Basalt: \", basalt)\n",
    "print(\"Number of Breccia: \", breccia)\n",
    "print(\"Number of Highland: \", highland)\n",
    "print(\"Number of Regolith: \", regolith)\n",
    "\n",
    "print(\"The max number of one type of rock found was:\", max(basalt, breccia, highland,regolith))\n",
    "print(\"The minimum number of one type of rock found was:\", min(basalt, breccia, highland, regolith))"
   ]
  },
  {
   "source": [
    "### Congratulations, you've successfully programmed Artemis to give a summary about the different types of rock data that it found."
   ],
   "cell_type": "markdown",
   "metadata": {}
  }
 ]
}